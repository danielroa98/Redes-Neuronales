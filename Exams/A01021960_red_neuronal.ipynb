{
  "nbformat": 4,
  "nbformat_minor": 0,
  "metadata": {
    "kernelspec": {
      "display_name": "Python 3",
      "language": "python",
      "name": "python3"
    },
    "language_info": {
      "codemirror_mode": {
        "name": "ipython",
        "version": 3
      },
      "file_extension": ".py",
      "mimetype": "text/x-python",
      "name": "python",
      "nbconvert_exporter": "python",
      "pygments_lexer": "ipython3",
      "version": "3.6.8"
    },
    "colab": {
      "name": "A01021960_red_neuronal.ipynb",
      "provenance": [],
      "collapsed_sections": [
        "Mo9GT-PbwMue"
      ]
    }
  },
  "cells": [
    {
      "cell_type": "markdown",
      "metadata": {
        "id": "w6u09ywdcbdJ"
      },
      "source": [
        "# Mid-term exam\n",
        "## Daniel Roa - A01021960\n",
        "## Delivery date: **July 13, 2021**"
      ]
    },
    {
      "cell_type": "markdown",
      "metadata": {
        "id": "Mo9GT-PbwMue"
      },
      "source": [
        "# Questions\n",
        "---"
      ]
    },
    {
      "cell_type": "markdown",
      "metadata": {
        "id": "Xuab1Te8Uqsr"
      },
      "source": [
        "1. What is the difference between artificial intelligence, machine learning and deep learning? (6 points)\n",
        "\n",
        "  Artificial intelligence is meant to mimic a human behaviours by interpreting different data. \n",
        "  Machine Learning is a way in which a computer \"learns\" by analysing data from different inputs in order to predict certain outcomes, the bigger the amount of input data, the model will be better in calculating the output.\n",
        "  Deep Learning is a subset of Machine Learning that \"learns\" similarly as Machine Learning, but the main difference between *ML* and *DL* is that *DL* has layers or \"Neurons\" that improve the predictions that are being made. "
      ]
    },
    {
      "cell_type": "markdown",
      "metadata": {
        "id": "FvkJ_1b1Uyeh"
      },
      "source": [
        "2. What is supervised learning? (6 points)\n",
        "\n",
        "  Supervised learning is another kind of Machine Learning, in this variation, the algorithm is being fed a labeled dataset, in which the computer will be able to analyse and categorize specific information."
      ]
    },
    {
      "cell_type": "markdown",
      "metadata": {
        "id": "Vu75lHt0XMjS"
      },
      "source": [
        "3. What does the loss function represent? (6 points)\n",
        "\n",
        "  The Loss Function has a very important function in the implementation of a Neural Network. It's meant to update the value of the weights depending on the values that were calculated. This improves the training of the model."
      ]
    },
    {
      "cell_type": "markdown",
      "metadata": {
        "id": "L2yeG7jXa5Wg"
      },
      "source": [
        "4. Describe, in your own words, what are the weights of a neural network, and what kind of data do they store. (6 points)\n",
        "\n",
        "  The weights in neural networks are the equivalent to the \"strength\" that links the neurons between them. They store values that are lower than 1, but, it's important to mention that the bigger the value, the bigger the strength between neurons is, not only this, but the bigger the value, the more exact the prediction will be."
      ]
    },
    {
      "cell_type": "markdown",
      "metadata": {
        "id": "2u1nKgFlb82n"
      },
      "source": [
        "5. What does the 'deep' in deep learning mean? (6 points)\n",
        "\n",
        "  Since it's using multiple layers to make it's predictions, the *deep* part from it's name comes from the overall amount of layers that take part in it's network."
      ]
    },
    {
      "cell_type": "markdown",
      "metadata": {
        "id": "oKiAoLQ43zpK"
      },
      "source": [
        "# Simple Neural Network\n",
        "\n",
        "Complete the notebook so that you can run the following model on the XOR data set."
      ]
    },
    {
      "cell_type": "markdown",
      "metadata": {
        "id": "FRZ78OVFnZf7"
      },
      "source": [
        "![Neural network](https://drive.google.com/uc?id=1jXT22Gd4hMQDJTrNLDRYSMCdCxH1dQ2t)"
      ]
    },
    {
      "cell_type": "markdown",
      "metadata": {
        "id": "SrCHhuil3zpN"
      },
      "source": [
        "## Import the necessary packages"
      ]
    },
    {
      "cell_type": "code",
      "metadata": {
        "id": "coZw5AfK3zpO"
      },
      "source": [
        "import numpy as np\n",
        "import matplotlib.pyplot as plt"
      ],
      "execution_count": 1,
      "outputs": []
    },
    {
      "cell_type": "markdown",
      "metadata": {
        "id": "cvwK0iNgOy6m"
      },
      "source": [
        "## Define auxiliary functions"
      ]
    },
    {
      "cell_type": "markdown",
      "metadata": {
        "id": "PX1r2cDDe75l"
      },
      "source": [
        "### Define the sigmoid and sigmoid derivative functions (10 points)"
      ]
    },
    {
      "cell_type": "code",
      "metadata": {
        "id": "UgIwVBObOyJ-"
      },
      "source": [
        "# TODO: Define the sigmoid function, as well as the derivative of the function\n",
        "\n",
        "def sigmoid(x):\n",
        "  ''' Calculates the sigmoid function on a set of data\n",
        "\n",
        "    Args:\n",
        "      x (np array): the array on which you apply the sigmoid function\n",
        "    \n",
        "    Returns:\n",
        "      np array: an array with the result of the function on the input\n",
        "    \n",
        "  '''\n",
        "  return 1/(1+np.exp(-x))\n",
        "\n",
        "def sigmoid_derivative(x):\n",
        "  ''' Calculates the derivative of the sigmoid function\n",
        "\n",
        "    Args:\n",
        "      x (np array): the array on which you apply the derivative sigmoid function\n",
        "    \n",
        "    Returns:\n",
        "      np array: an array with the result of the function on the input\n",
        "  '''\n",
        "  return sigmoid(x)*(1 - sigmoid(x))"
      ],
      "execution_count": 2,
      "outputs": []
    },
    {
      "cell_type": "markdown",
      "metadata": {
        "id": "s23AzrfWfCFt"
      },
      "source": [
        "### Define the loss function (5 points)"
      ]
    },
    {
      "cell_type": "code",
      "metadata": {
        "id": "9sMoc-SEO7Ve"
      },
      "source": [
        "# TODO: Define the loss function\n",
        "\n",
        "def loss(y_hat, y):\n",
        "  ''' Calculates the error of a prediction based on an input\n",
        "\n",
        "  Args:\n",
        "    y_hat (np array): the predictions of the model\n",
        "    y (np array): the labels of the data inputs\n",
        "\n",
        "  Returns:\n",
        "    np array: an array with the errors for each prediction\n",
        "  '''\n",
        "  return (-(y*np.log(y_hat) + (1 - y)*np.log(1 - y_hat)))"
      ],
      "execution_count": 3,
      "outputs": []
    },
    {
      "cell_type": "markdown",
      "metadata": {
        "id": "p6fMFlIffGmD"
      },
      "source": [
        "### Define the predict function (15 points)"
      ]
    },
    {
      "cell_type": "code",
      "metadata": {
        "id": "JkrLt8XfO9Od"
      },
      "source": [
        "# TODO: Define the predict function\n",
        "\n",
        "def predict(weights, b, input):\n",
        "  ''' Makes a prediction on an input\n",
        "\n",
        "  Args:\n",
        "    weights (np array): The array of weights of a given layer of the model\n",
        "    b (np array):  The array of biases for a given layer of the model\n",
        "    input (np array): The input on which to predict\n",
        "\n",
        "  Returns:\n",
        "    tuple of np arrays: Tuple containing the value of z = W Input + b, and a = sigmoid(z)\n",
        "  '''\n",
        "  z = np.dot(weights, input) + b\n",
        "  a = sigmoid(z)\n",
        "  return (z, a)"
      ],
      "execution_count": 4,
      "outputs": []
    },
    {
      "cell_type": "markdown",
      "metadata": {
        "id": "jaL6flNj_Hye"
      },
      "source": [
        "## Training with the XOR dataset"
      ]
    },
    {
      "cell_type": "markdown",
      "metadata": {
        "id": "SzaepJ6MVDmc"
      },
      "source": [
        "### Input data set"
      ]
    },
    {
      "cell_type": "code",
      "metadata": {
        "id": "MnLCgH4R_HR_",
        "colab": {
          "base_uri": "https://localhost:8080/"
        },
        "outputId": "b6c1146f-6796-445d-af35-6c6161b726fb"
      },
      "source": [
        "XOR = np.array([[0,0], [0,1], [1,0], [1,1]]).T\n",
        "print(f\"XOR data: \\n{XOR}\\nShape: {XOR.shape}\")\n",
        "\n",
        "XOR_labels = np.array([[0, 1, 1, 0]])\n",
        "print(f\"XOR labels: \\n{XOR_labels}\\nShape: {XOR_labels.shape})\")\n",
        "\n",
        "number_inputs = 4"
      ],
      "execution_count": 5,
      "outputs": [
        {
          "output_type": "stream",
          "text": [
            "XOR data: \n",
            "[[0 0 1 1]\n",
            " [0 1 0 1]]\n",
            "Shape: (2, 4)\n",
            "XOR labels: \n",
            "[[0 1 1 0]]\n",
            "Shape: (1, 4))\n"
          ],
          "name": "stdout"
        }
      ]
    },
    {
      "cell_type": "markdown",
      "metadata": {
        "id": "xQN6xpdqR5Mc"
      },
      "source": [
        "### Run the training step (30 points)"
      ]
    },
    {
      "cell_type": "code",
      "metadata": {
        "id": "TYOrmzT5R4oo",
        "colab": {
          "base_uri": "https://localhost:8080/"
        },
        "outputId": "89f9ce01-39fc-45c2-c5ce-06b9c66d323d"
      },
      "source": [
        "np.random.seed(42)\n",
        "\n",
        "# TODO: initialize the needed matrices of weights with random values. Check np.random.randn\n",
        "weights_1 = np.random.rand(2, 3).T\n",
        "weights_2 = np.random.rand(3, 1).T\n",
        "\n",
        "# TODO: initialize the needed biases with random values. Check np.random.randn\n",
        "b_1 = np.random.rand(3, 1)\n",
        "b_2 = np.random.rand(1, 1)\n",
        "\n",
        "# TODO: initialize the learning rate\n",
        "alpha = 0.5\n",
        "\n",
        "# print(f'W1 {weights_1} W1.shape {weights_1.shape} b1 {b_1} b1.shape {b_1.shape}')\n",
        "# print(f'W2 {weights_2} W2.shape {weights_2.shape} b2 {b_2} b2.shape {b_2.shape}')\n",
        "\n",
        "errors = []\n",
        "\n",
        "for epoch in range(1500):\n",
        "\n",
        "  # Forward propagation - prediction\n",
        "\n",
        "  # TODO: Make a prediction using the previous method\n",
        "  input = XOR\n",
        "  \n",
        "  # Y hat - hidden layer\n",
        "  y_hatH = sigmoid(np.dot(weights_1, input) + b_1)\n",
        "\n",
        "  # Y hat - output layer\n",
        "  y_hatO = sigmoid(np.dot(weights_2, y_hatH) + b_2)\n",
        "  # print(y_hatO)\n",
        "\n",
        "  # TODO: Calculate the error at the output layer\n",
        "  J = np.sum(loss(y_hatO, XOR_labels)) / number_inputs\n",
        "  # print(np.sum(loss(y_hatO, XOR_labels)))\n",
        "  errors.append(J)\n",
        "\n",
        "  # TODO: Calculate the derivatives for the output layer\n",
        "  dyO = y_hatO - XOR_labels\n",
        "  dw2 = (1/number_inputs) * np.dot(dyO, y_hatH.T)\n",
        "  db2 = (1/number_inputs) * np.sum(dyO)\n",
        "\n",
        "  # TODO: Calculate the derivative at the hidden layer\n",
        "  dyH = (np.dot(weights_2.T, dyO) * sigmoid_derivative(np.dot(weights_1, input) + b_1)) # Partial derivative of Y in the hidden layer\n",
        "  dw1 = (1/number_inputs) * np.dot(dyH, input.T)\n",
        "  db1 = (1/number_inputs) * np.sum(dyH)\n",
        "\n",
        "  # TODO: Update the weights\n",
        "  weights_2 -= dw2 * alpha\n",
        "  weights_1 -= dw1 * alpha\n",
        "\n",
        "  # TODO: Update the biases\n",
        "  b_2 -= db2 * alpha \n",
        "  b_1 -= db1 * alpha\n",
        "\n",
        "  # Print the error after a number of epochs\n",
        "  if epoch % 100 == 0:\n",
        "    print(f\"Error at epoch {epoch}: {J}\")"
      ],
      "execution_count": 6,
      "outputs": [
        {
          "output_type": "stream",
          "text": [
            "Error at epoch 0: 1.0899615320738918\n",
            "Error at epoch 100: 0.6932986195771662\n",
            "Error at epoch 200: 0.6921315878471732\n",
            "Error at epoch 300: 0.6890801801585343\n",
            "Error at epoch 400: 0.678007686749815\n",
            "Error at epoch 500: 0.6455647364173637\n",
            "Error at epoch 600: 0.5804430361007101\n",
            "Error at epoch 700: 0.49043517197129305\n",
            "Error at epoch 800: 0.3791241675684369\n",
            "Error at epoch 900: 0.27364070830349563\n",
            "Error at epoch 1000: 0.1921102513411912\n",
            "Error at epoch 1100: 0.12366829072277649\n",
            "Error at epoch 1200: 0.07993252976603593\n",
            "Error at epoch 1300: 0.057231399506021935\n",
            "Error at epoch 1400: 0.04425815078253119\n"
          ],
          "name": "stdout"
        }
      ]
    },
    {
      "cell_type": "markdown",
      "metadata": {
        "id": "_UpV7vq8VIHa"
      },
      "source": [
        "## Plotting the errors you stored"
      ]
    },
    {
      "cell_type": "code",
      "metadata": {
        "id": "RFdQgJ26UNl0",
        "colab": {
          "base_uri": "https://localhost:8080/",
          "height": 296
        },
        "outputId": "6d8c1ed2-7fad-43e0-c495-b5aa98a0304d"
      },
      "source": [
        "fig, ax = plt.subplots(1,1)\n",
        "\n",
        "ax.set_xlabel('Epoch')\n",
        "ax.set_ylabel('Error')\n",
        "\n",
        "ax.plot(errors)"
      ],
      "execution_count": 7,
      "outputs": [
        {
          "output_type": "execute_result",
          "data": {
            "text/plain": [
              "[<matplotlib.lines.Line2D at 0x7f0cd4316050>]"
            ]
          },
          "metadata": {
            "tags": []
          },
          "execution_count": 7
        },
        {
          "output_type": "display_data",
          "data": {
            "image/png": "[encoded data removed]",
            "text/plain": [
              "<Figure size 432x288 with 1 Axes>"
            ]
          },
          "metadata": {
            "tags": [],
            "needs_background": "light"
          }
        }
      ]
    },
    {
      "cell_type": "markdown",
      "metadata": {
        "id": "OrWEvSuIVURj"
      },
      "source": [
        "## Make a prediction on the data points to test the model (15 points)"
      ]
    },
    {
      "cell_type": "code",
      "metadata": {
        "scrolled": true,
        "id": "4hwRiwBA3zpR",
        "colab": {
          "base_uri": "https://localhost:8080/"
        },
        "outputId": "3ba0b2a7-61c1-4739-bb39-50cc10409566"
      },
      "source": [
        "# TODO: Predict on the sample input\n",
        "print(\"\\nOutput of the input After Training:\\n\")\n",
        "np.set_printoptions(suppress=True)\n",
        "\n",
        "input = XOR\n",
        "\n",
        "z, y_hat = predict(weights_1, b_1, input)\n",
        "\n",
        "print(XOR,'\\n', XOR_labels, '\\n\\n', y_hat)\n"
      ],
      "execution_count": 8,
      "outputs": [
        {
          "output_type": "stream",
          "text": [
            "\n",
            "Output of the input After Training:\n",
            "\n",
            "[[0 0 1 1]\n",
            " [0 1 0 1]] \n",
            " [[0 1 1 0]] \n",
            "\n",
            " [[0.0157024  0.2282094  0.16556389 0.78621607]\n",
            " [0.00795788 0.94501535 0.94819627 0.9999745 ]\n",
            " [0.02030693 0.16864675 0.25074218 0.76609135]]\n"
          ],
          "name": "stdout"
        }
      ]
    }
  ]
}