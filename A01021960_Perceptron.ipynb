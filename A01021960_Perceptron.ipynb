{
  "nbformat": 4,
  "nbformat_minor": 0,
  "metadata": {
    "colab": {
      "name": "A01021960_Perceptron.ipynb",
      "provenance": [],
      "collapsed_sections": []
    },
    "kernelspec": {
      "display_name": "Python 3",
      "language": "python",
      "name": "python3"
    },
    "language_info": {
      "codemirror_mode": {
        "name": "ipython",
        "version": 3
      },
      "file_extension": ".py",
      "mimetype": "text/x-python",
      "name": "python",
      "nbconvert_exporter": "python",
      "pygments_lexer": "ipython3",
      "version": "3.6.8"
    }
  },
  "cells": [
    {
      "cell_type": "markdown",
      "metadata": {
        "id": "UmzxNhOa8GF6"
      },
      "source": [
        "# The Perceptron Algorithm"
      ]
    },
    {
      "cell_type": "markdown",
      "metadata": {
        "id": "L7XEefN-8GF9"
      },
      "source": [
        "A Perceptron is a system that learns using labeled examples of feature vectors, mapping these inputs to their corresponding output class labels. In its simplest form, a Perceptron contains N input nodes, one for each entry in the input row, followed by only one layer in the network with just a single node in that layer."
      ]
    },
    {
      "cell_type": "markdown",
      "metadata": {
        "id": "N_HrrPXf8GF-"
      },
      "source": [
        "Training a Perceptron is a fairly straightforward operation. Our goal is to obtain a set of weights *w* that accurately classifies each instance in our training set. In order to train our Perceptron, we iteratively feed the network our training data multiple times. Each time the network has seen the full set of training data, we say an epoch has passed. It normally takes many epochs until a weight vector _w_ can be learned to linearly separate our two classes of data."
      ]
    },
    {
      "cell_type": "markdown",
      "metadata": {
        "id": "EYVOOpEfFxR4"
      },
      "source": [
        "![Perceptron](https://drive.google.com/uc?id=1K7olbB11mSfAwPmB8BeeRNe6XbuGSK4D)"
      ]
    },
    {
      "cell_type": "markdown",
      "metadata": {
        "id": "YmywjsFM8GF-"
      },
      "source": [
        "The pseudocode is the following:\n",
        "1. Initialize our weight vector w with small random values\n",
        "2. Until Perceptron converges\n",
        "    1. Loop over each input and class label\n",
        "    2. Take $x$ and pass it through the network, calculating the output value: $y = (w · x)$\n",
        "    3. Update the weights: if ŷ = 0 --> $w_i = w_i + \\alpha x_i$, if ŷ = 1 --> $w_i = w_i - \\alpha x_i$\n",
        "        "
      ]
    },
    {
      "cell_type": "markdown",
      "metadata": {
        "id": "D_s6txe2jYz-"
      },
      "source": [
        "# Script\n",
        "## Daniel Roa - A01021960\n",
        "## Delivery date: 08/07/2021"
      ]
    },
    {
      "cell_type": "code",
      "metadata": {
        "id": "OSYcra3n8iUG"
      },
      "source": [
        "import random, math\n",
        "import matplotlib.pyplot as plt"
      ],
      "execution_count": 1,
      "outputs": []
    },
    {
      "cell_type": "code",
      "metadata": {
        "id": "nYXUulX-8GGA"
      },
      "source": [
        "class Perceptron:        \n",
        "    \"\"\"Perceptron class\n",
        "\n",
        "        Args:\n",
        "            M: Number of inputs\n",
        "            alpha: Learning rate\n",
        "        \n",
        "        Attributes:\n",
        "            W: The weights for the perceptron\n",
        "            b: bias\n",
        "            alpha: The learning rate\n",
        "    \"\"\"\n",
        "    def __init__(self, N, M, alpha=0.5):   \n",
        "        # N: number of weights     \n",
        "        # Creates an array of N weights and initializes with random values\n",
        "        self.alpha = alpha\n",
        "        self.b = random.uniform(0, 1)\n",
        "        self.M = M\n",
        "        self.posX = []\n",
        "        self.W = [random.uniform(0, 1), random.uniform(0, 1)]\n",
        "        self.error = []\n",
        "            \n",
        "    def sigmoid(self, x):\n",
        "      #pass\n",
        "      return (1/(1 + math.exp(-x)))\n",
        "\n",
        "    def loss(self, yHat, y):\n",
        "      '''\n",
        "        Function in charge of calculating the Loss function (L).\n",
        "\n",
        "        Args:\n",
        "          yHat: equals to y with a hat on a regular equation, it's the predictions' values.\n",
        "          y: \n",
        "      '''\n",
        "      return (-(y * math.log(yHat) + (1 - y) * math.log(1 - yHat)))\n",
        "\n",
        "    def plot(self, errors, xValues):\n",
        "      '''\n",
        "        Function in charge of plotting the graph using the values from the errors and the epochs.\n",
        "\n",
        "        Args:\n",
        "          errors: equals to the values obtained from the Loss function\n",
        "          xValues: equals to the epoch in which the perceptronStep() function was called upon.\n",
        "      '''\n",
        "      plt.plot(xValues, errors)\n",
        "      plt.xlabel('Epochs')\n",
        "      plt.ylabel('Error % over time')\n",
        "      plt.show()\n",
        "      return\n",
        "\n",
        "    def predict(self, x):\n",
        "        \"\"\"\n",
        "            Makes a prediction for the specified input\n",
        "            \n",
        "            Args:\n",
        "                x: Input to make a prediction on.\n",
        "        \"\"\"\n",
        "        return self.sigmoid((x[0] * self.W[0]) + (x[1] * self.W[1]) + self.b)\n",
        "    \n",
        "    def perceptronStep(self, X, y):\n",
        "        \"\"\"\n",
        "            The perceptron basic step. It updates the weights based on the input data.\n",
        "            \n",
        "            Args:\n",
        "                X: Array with the input data\n",
        "                y: Data labels\n",
        "        \"\"\"\n",
        "        # Variables that will hold different information\n",
        "        J = 0\n",
        "        L = 0\n",
        "        db = 0\n",
        "        dw1 = 0\n",
        "        dw2 = 0\n",
        "\n",
        "        for i in range(self.M):\n",
        "          # Prediction\n",
        "          yHat = self.sigmoid((X[i][0] * self.W[0]) + (X[i][1] * self.W[1]) + self.b)\n",
        "          # Error \n",
        "          J += self.loss(yHat, y[i][0])\n",
        "\n",
        "          # Gradient Descent calculations start here\n",
        "          dy = yHat - y[i][0]\n",
        "          dw1 += X[i][0] * dy\n",
        "          dw2 += X[i][1] * dy\n",
        "          db += dy\n",
        "\n",
        "        # Training \n",
        "        dw1 /= self.M\n",
        "        dw2 /= self.M\n",
        "        db /= self.M\n",
        "\n",
        "        # End of Gradient Descent calculations\n",
        "\n",
        "        self.W[0] -= dw1 * self.alpha\n",
        "        self.W[1] -= dw2 * self.alpha\n",
        "        self.b -= db * self.alpha\n",
        "\n",
        "        # print('Error ', J)\n",
        "        self.error.append(J)\n",
        "\n",
        "        #print(self.error)\n",
        "\n",
        "        return\n",
        "        #pass\n",
        "    \n",
        "    def train(self, X, y, epochs = 1000):\n",
        "        \"\"\"\n",
        "            Runs the perceptron step a specified number of epochs\n",
        "            \n",
        "            Args:\n",
        "                X: input data\n",
        "                y: labels\n",
        "                epochs: The number of times the step is executed\n",
        "        \"\"\"\n",
        "        # loop over the desired epochs\n",
        "        for epoch in range(epochs):\n",
        "            self.posX.append(epoch)\n",
        "            self.perceptronStep(X, y)\n",
        "        self.plot(self.error, self.posX)\n",
        "        return\n",
        "                "
      ],
      "execution_count": 2,
      "outputs": []
    },
    {
      "cell_type": "markdown",
      "metadata": {
        "id": "vmsoic3Bi2vG"
      },
      "source": [
        "## Execution of the AND data"
      ]
    },
    {
      "cell_type": "code",
      "metadata": {
        "colab": {
          "base_uri": "https://localhost:8080/",
          "height": 381
        },
        "id": "nZfEuLw48GGB",
        "outputId": "f2131d55-8fbd-4720-afc2-4774de99a603"
      },
      "source": [
        "# change the seed to see different solutions\n",
        "random.seed(42)\n",
        "\n",
        "# The following data is used to train the perceptron for the AND operation\n",
        "# Test your code with the OR operation\n",
        "X = [[0,0],[0,1], [1,0], [1,1]]\n",
        "# AND data\n",
        "y = [[0],[0], [0], [1]]\n",
        "\n",
        "m = len(y) \n",
        "\n",
        "p = Perceptron(4, m)\n",
        "print(f\"Initial weights {p.W}\")\n",
        "\n",
        "# Test training with different epochs\n",
        "p.train(X, y, 5000)\n",
        "print(f\"Weights after training {p.W}\")\n",
        "\n",
        "# Test your model with a prediction\n",
        "print(f'Prediction for {X[0]} is {p.predict(X[0])}')\n",
        "print(f'Prediction for {X[1]} is {p.predict(X[1])}')\n",
        "print(f'Prediction for {X[2]} is {p.predict(X[2])}')\n",
        "print(f'Prediction for {X[3]} is {p.predict(X[3])}')\n"
      ],
      "execution_count": 3,
      "outputs": [
        {
          "output_type": "stream",
          "text": [
            "Initial weights [0.025010755222666936, 0.27502931836911926]\n"
          ],
          "name": "stdout"
        },
        {
          "output_type": "display_data",
          "data": {
            "image/png": "[encoded data removed]",
            "text/plain": [
              "<Figure size 432x288 with 1 Axes>"
            ]
          },
          "metadata": {
            "tags": [],
            "needs_background": "light"
          }
        },
        {
          "output_type": "stream",
          "text": [
            "Weights after training [9.272023446198109, 9.272023447395046]\n",
            "Prediction for [0, 0] is 7.691542740736337e-07\n",
            "Prediction for [0, 1] is 0.008114540548667707\n",
            "Prediction for [1, 0] is 0.00811454053903392\n",
            "Prediction for [1, 1] is 0.9886382202467616\n"
          ],
          "name": "stdout"
        }
      ]
    },
    {
      "cell_type": "markdown",
      "metadata": {
        "id": "EJhxq6zUjUXX"
      },
      "source": [
        "## Execution of the OR data"
      ]
    },
    {
      "cell_type": "code",
      "metadata": {
        "colab": {
          "base_uri": "https://localhost:8080/",
          "height": 381
        },
        "id": "xgT_DLl1idep",
        "outputId": "9e709e3b-c148-430f-d76e-9319214b5432"
      },
      "source": [
        "# change the seed to see different solutions\n",
        "random.seed(42)\n",
        "\n",
        "# The following data is used to train the perceptron for the AND operation\n",
        "# Test your code with the OR operation\n",
        "X = [[0,0],[0,1], [1,0], [1,1]]\n",
        "# OR data\n",
        "y = [[0],[1], [1], [1]]\n",
        "\n",
        "m = len(y) \n",
        "\n",
        "p = Perceptron(4, m)\n",
        "print(f\"Initial weights {p.W}\")\n",
        "\n",
        "# Test training with different epochs\n",
        "p.train(X, y, 5000)\n",
        "print(f\"Weights after training {p.W}\")\n",
        "\n",
        "# Test your model with a prediction\n",
        "print(f'Prediction for {X[0]} is {p.predict(X[0])}')\n",
        "print(f'Prediction for {X[1]} is {p.predict(X[1])}')\n",
        "print(f'Prediction for {X[2]} is {p.predict(X[2])}')\n",
        "print(f'Prediction for {X[3]} is {p.predict(X[3])}')\n"
      ],
      "execution_count": 4,
      "outputs": [
        {
          "output_type": "stream",
          "text": [
            "Initial weights [0.025010755222666936, 0.27502931836911926]\n"
          ],
          "name": "stdout"
        },
        {
          "output_type": "display_data",
          "data": {
            "image/png": "[encoded data removed]",
            "text/plain": [
              "<Figure size 432x288 with 1 Axes>"
            ]
          },
          "metadata": {
            "tags": [],
            "needs_background": "light"
          }
        },
        {
          "output_type": "stream",
          "text": [
            "Weights after training [10.529642796968172, 10.529670127973581]\n",
            "Prediction for [0, 0] is 0.008130687116729329\n",
            "Prediction for [0, 1] is 0.9967496087065196\n",
            "Prediction for [1, 0] is 0.9967495201576086\n",
            "Prediction for [1, 1] is 0.9999999128266428\n"
          ],
          "name": "stdout"
        }
      ]
    }
  ]
}