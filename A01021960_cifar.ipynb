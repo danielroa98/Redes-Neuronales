{
  "nbformat": 4,
  "nbformat_minor": 0,
  "metadata": {
    "colab": {
      "name": "A01021960_cifar.ipynb",
      "provenance": [],
      "collapsed_sections": [],
      "authorship_tag": "ABX9TyOi2C/x8PIbnqMOZqXpsgK1",
      "include_colab_link": true
    },
    "kernelspec": {
      "name": "python3",
      "display_name": "Python 3"
    },
    "language_info": {
      "name": "python"
    },
    "accelerator": "GPU"
  },
  "cells": [
    {
      "cell_type": "markdown",
      "metadata": {
        "id": "view-in-github",
        "colab_type": "text"
      },
      "source": [
        "<a href=\"https://colab.research.google.com/github/danielroa98/Redes-Neuronales/blob/main/A01021960_cifar.ipynb\" target=\"_parent\"><img src=\"https://colab.research.google.com/assets/colab-badge.svg\" alt=\"Open In Colab\"/></a>"
      ]
    },
    {
      "cell_type": "code",
      "metadata": {
        "id": "ghdpgHonitLs"
      },
      "source": [
        "import cv2 #OpenCV\n",
        "\n",
        "import tensorflow as tf\n",
        "from tensorflow.keras import models, layers, optimizers\n",
        "from tensorflow.keras.utils import to_categorical\n",
        "\n",
        "# Import the dataset that will be used\n",
        "from tensorflow.keras.datasets import cifar10\n",
        "\n",
        "import numpy as np\n",
        "import matplotlib.pyplot as plt"
      ],
      "execution_count": 1,
      "outputs": []
    },
    {
      "cell_type": "markdown",
      "metadata": {
        "id": "2ZAR_2anjYc_"
      },
      "source": [
        "### Loading data from the Cifar10 dataset"
      ]
    },
    {
      "cell_type": "code",
      "metadata": {
        "colab": {
          "base_uri": "https://localhost:8080/"
        },
        "id": "Z9QBPcw-jAj9",
        "outputId": "70c0b5a2-9502-4fd7-f55a-1e9ec69c4229"
      },
      "source": [
        "(train_images, train_labels), (test_images, test_labels) = cifar10.load_data()\n",
        "\n",
        "print(train_images.shape)\n",
        "print(test_images.shape)"
      ],
      "execution_count": 2,
      "outputs": [
        {
          "output_type": "stream",
          "text": [
            "Downloading data from https://www.cs.toronto.edu/~kriz/cifar-10-python.tar.gz\n",
            "170500096/170498071 [==============================] - 2s 0us/step\n",
            "(50000, 32, 32, 3)\n",
            "(10000, 32, 32, 3)\n"
          ],
          "name": "stdout"
        }
      ]
    },
    {
      "cell_type": "markdown",
      "metadata": {
        "id": "DaGbKDl5jesK"
      },
      "source": [
        ""
      ]
    },
    {
      "cell_type": "code",
      "metadata": {
        "colab": {
          "base_uri": "https://localhost:8080/",
          "height": 317
        },
        "id": "e0TvwS9Djj_r",
        "outputId": "7c9a6859-958a-46b4-a6cc-e453399009ef"
      },
      "source": [
        "sample = 0\n",
        "print(test_images[sample].shape)\n",
        "print(test_labels[sample])\n",
        "\n",
        "sampleImg = cv2.cvtColor(test_images[sample], cv2.COLOR_BGR2RGB)\n",
        "\n",
        "plt.imshow(sampleImg, cmap='gray')\n",
        "# plt.imshow(test_images[0], cmap='gray')"
      ],
      "execution_count": 3,
      "outputs": [
        {
          "output_type": "stream",
          "text": [
            "(32, 32, 3)\n",
            "[3]\n"
          ],
          "name": "stdout"
        },
        {
          "output_type": "execute_result",
          "data": {
            "text/plain": [
              "<matplotlib.image.AxesImage at 0x7f1ba0c20190>"
            ]
          },
          "metadata": {
            "tags": []
          },
          "execution_count": 3
        },
        {
          "output_type": "display_data",
          "data": {
            "image/png": "[encoded data removed]",
            "text/plain": [
              "<Figure size 432x288 with 1 Axes>"
            ]
          },
          "metadata": {
            "tags": [],
            "needs_background": "light"
          }
        }
      ]
    },
    {
      "cell_type": "markdown",
      "metadata": {
        "id": "1I7QcEuuj8ue"
      },
      "source": [
        ""
      ]
    },
    {
      "cell_type": "code",
      "metadata": {
        "id": "2GE3fHJOAe2O"
      },
      "source": [
        "train_imgs_standard = train_images.reshape((50000, 32*32*3))\n",
        "train_imgs_standard = train_imgs_standard.astype('float32')/255\n",
        "\n",
        "test_imgs_standard = test_images.reshape((10000, 32*32*3))\n",
        "test_imgs_standard = test_imgs_standard.astype('float32')/255"
      ],
      "execution_count": 4,
      "outputs": []
    },
    {
      "cell_type": "code",
      "metadata": {
        "colab": {
          "base_uri": "https://localhost:8080/"
        },
        "id": "-p9-jQAsj8U3",
        "outputId": "e73a2927-dc53-4692-fb82-3998161ae4fa"
      },
      "source": [
        "print(train_labels)\n",
        "print(train_labels.shape)\n",
        "\n",
        "train_labels_standard = to_categorical(train_labels)\n",
        "test_labels_standard = to_categorical(test_labels)\n",
        "\n",
        "print(train_labels_standard[0])\n",
        "print(train_labels_standard.shape)"
      ],
      "execution_count": 5,
      "outputs": [
        {
          "output_type": "stream",
          "text": [
            "[[6]\n",
            " [9]\n",
            " [9]\n",
            " ...\n",
            " [9]\n",
            " [1]\n",
            " [1]]\n",
            "(50000, 1)\n",
            "[0. 0. 0. 0. 0. 0. 1. 0. 0. 0.]\n",
            "(50000, 10)\n"
          ],
          "name": "stdout"
        }
      ]
    },
    {
      "cell_type": "code",
      "metadata": {
        "id": "gnzkcWfeyOG1",
        "colab": {
          "base_uri": "https://localhost:8080/"
        },
        "outputId": "0520db37-a6df-4a63-9051-cd12c70980ca"
      },
      "source": [
        "network = models.Sequential()\n",
        "\n",
        "# Hidden layers\n",
        "network.add(layers.Dense(32, activation='relu', input_shape=(3072,), name='Hidden_0'))\n",
        "network.add(layers.Dense(64, activation='relu', name='Hidden_1'))\n",
        "network.add(layers.Dense(128, activation='relu', name='Hidden_2'))\n",
        "network.add(layers.Dense(256, activation='relu', name='Hidden_3'))\n",
        "network.add(layers.Dense(512, activation='relu', name='Hidden_4'))\n",
        "network.add(layers.Dense(1024, activation='relu', name='Hidden_5'))\n",
        "\n",
        "# Output layer\n",
        "network.add(layers.Dense(10, activation='softmax', name='Output'))\n",
        "\n",
        "network.compile(optimizer=optimizers.Adam(learning_rate=0.0001), loss='categorical_crossentropy', metrics=['accuracy'])\n",
        "\n",
        "network.summary()"
      ],
      "execution_count": 27,
      "outputs": [
        {
          "output_type": "stream",
          "text": [
            "Model: \"sequential_5\"\n",
            "_________________________________________________________________\n",
            "Layer (type)                 Output Shape              Param #   \n",
            "=================================================================\n",
            "Hidden_0 (Dense)             (None, 32)                98336     \n",
            "_________________________________________________________________\n",
            "Hidden_1 (Dense)             (None, 64)                2112      \n",
            "_________________________________________________________________\n",
            "Hidden_2 (Dense)             (None, 128)               8320      \n",
            "_________________________________________________________________\n",
            "Hidden_3 (Dense)             (None, 256)               33024     \n",
            "_________________________________________________________________\n",
            "Hidden_4 (Dense)             (None, 512)               131584    \n",
            "_________________________________________________________________\n",
            "Hidden_5 (Dense)             (None, 1024)              525312    \n",
            "_________________________________________________________________\n",
            "Output (Dense)               (None, 10)                10250     \n",
            "=================================================================\n",
            "Total params: 808,938\n",
            "Trainable params: 808,938\n",
            "Non-trainable params: 0\n",
            "_________________________________________________________________\n"
          ],
          "name": "stdout"
        }
      ]
    },
    {
      "cell_type": "code",
      "metadata": {
        "colab": {
          "base_uri": "https://localhost:8080/"
        },
        "id": "Tx2UxS7iDhzn",
        "outputId": "09103d1e-201c-449c-e19b-2340bd7aeb53"
      },
      "source": [
        "x_train = train_imgs_standard[:35000]\n",
        "x_val = train_imgs_standard[35000:]\n",
        "\n",
        "y_train = train_labels_standard[:35000]\n",
        "y_val = train_labels_standard[35000:]\n",
        "\n",
        "history = network.fit(x_train, y_train, epochs=25, validation_data=(x_val, y_val))"
      ],
      "execution_count": 28,
      "outputs": [
        {
          "output_type": "stream",
          "text": [
            "Epoch 1/25\n",
            "1094/1094 [==============================] - 6s 5ms/step - loss: 1.9131 - accuracy: 0.3006 - val_loss: 1.8049 - val_accuracy: 0.3490\n",
            "Epoch 2/25\n",
            "1094/1094 [==============================] - 5s 4ms/step - loss: 1.7340 - accuracy: 0.3751 - val_loss: 1.6955 - val_accuracy: 0.3847\n",
            "Epoch 3/25\n",
            "1094/1094 [==============================] - 5s 4ms/step - loss: 1.6566 - accuracy: 0.3987 - val_loss: 1.6443 - val_accuracy: 0.4063\n",
            "Epoch 4/25\n",
            "1094/1094 [==============================] - 5s 4ms/step - loss: 1.5999 - accuracy: 0.4243 - val_loss: 1.6251 - val_accuracy: 0.4141\n",
            "Epoch 5/25\n",
            "1094/1094 [==============================] - 5s 4ms/step - loss: 1.5665 - accuracy: 0.4356 - val_loss: 1.6029 - val_accuracy: 0.4269\n",
            "Epoch 6/25\n",
            "1094/1094 [==============================] - 5s 4ms/step - loss: 1.5301 - accuracy: 0.4482 - val_loss: 1.5963 - val_accuracy: 0.4296\n",
            "Epoch 7/25\n",
            "1094/1094 [==============================] - 5s 4ms/step - loss: 1.5045 - accuracy: 0.4574 - val_loss: 1.5770 - val_accuracy: 0.4407\n",
            "Epoch 8/25\n",
            "1094/1094 [==============================] - 4s 4ms/step - loss: 1.4807 - accuracy: 0.4661 - val_loss: 1.5476 - val_accuracy: 0.4474\n",
            "Epoch 9/25\n",
            "1094/1094 [==============================] - 5s 4ms/step - loss: 1.4548 - accuracy: 0.4767 - val_loss: 1.5256 - val_accuracy: 0.4485\n",
            "Epoch 10/25\n",
            "1094/1094 [==============================] - 4s 4ms/step - loss: 1.4350 - accuracy: 0.4835 - val_loss: 1.5109 - val_accuracy: 0.4625\n",
            "Epoch 11/25\n",
            "1094/1094 [==============================] - 4s 4ms/step - loss: 1.4182 - accuracy: 0.4909 - val_loss: 1.5292 - val_accuracy: 0.4567\n",
            "Epoch 12/25\n",
            "1094/1094 [==============================] - 4s 4ms/step - loss: 1.3960 - accuracy: 0.4979 - val_loss: 1.5107 - val_accuracy: 0.4606\n",
            "Epoch 13/25\n",
            "1094/1094 [==============================] - 4s 4ms/step - loss: 1.3796 - accuracy: 0.5042 - val_loss: 1.4888 - val_accuracy: 0.4695\n",
            "Epoch 14/25\n",
            "1094/1094 [==============================] - 5s 4ms/step - loss: 1.3623 - accuracy: 0.5090 - val_loss: 1.4894 - val_accuracy: 0.4675\n",
            "Epoch 15/25\n",
            "1094/1094 [==============================] - 5s 4ms/step - loss: 1.3449 - accuracy: 0.5160 - val_loss: 1.5162 - val_accuracy: 0.4661\n",
            "Epoch 16/25\n",
            "1094/1094 [==============================] - 4s 4ms/step - loss: 1.3277 - accuracy: 0.5201 - val_loss: 1.4799 - val_accuracy: 0.4735\n",
            "Epoch 17/25\n",
            "1094/1094 [==============================] - 4s 4ms/step - loss: 1.3087 - accuracy: 0.5305 - val_loss: 1.4804 - val_accuracy: 0.4751\n",
            "Epoch 18/25\n",
            "1094/1094 [==============================] - 4s 4ms/step - loss: 1.2972 - accuracy: 0.5309 - val_loss: 1.4586 - val_accuracy: 0.4862\n",
            "Epoch 19/25\n",
            "1094/1094 [==============================] - 4s 4ms/step - loss: 1.2806 - accuracy: 0.5384 - val_loss: 1.4917 - val_accuracy: 0.4735\n",
            "Epoch 20/25\n",
            "1094/1094 [==============================] - 5s 4ms/step - loss: 1.2685 - accuracy: 0.5434 - val_loss: 1.4595 - val_accuracy: 0.4901\n",
            "Epoch 21/25\n",
            "1094/1094 [==============================] - 5s 4ms/step - loss: 1.2467 - accuracy: 0.5513 - val_loss: 1.4933 - val_accuracy: 0.4755\n",
            "Epoch 22/25\n",
            "1094/1094 [==============================] - 5s 4ms/step - loss: 1.2340 - accuracy: 0.5568 - val_loss: 1.4779 - val_accuracy: 0.4845\n",
            "Epoch 23/25\n",
            "1094/1094 [==============================] - 4s 4ms/step - loss: 1.2204 - accuracy: 0.5587 - val_loss: 1.5006 - val_accuracy: 0.4755\n",
            "Epoch 24/25\n",
            "1094/1094 [==============================] - 4s 4ms/step - loss: 1.1999 - accuracy: 0.5656 - val_loss: 1.4693 - val_accuracy: 0.4864\n",
            "Epoch 25/25\n",
            "1094/1094 [==============================] - 5s 4ms/step - loss: 1.1862 - accuracy: 0.5725 - val_loss: 1.4690 - val_accuracy: 0.4854\n"
          ],
          "name": "stdout"
        }
      ]
    },
    {
      "cell_type": "code",
      "metadata": {
        "id": "CC_STSgfEERa"
      },
      "source": [
        "history_dict = history.history\n",
        "\n",
        "loss_values = history_dict['loss']\n",
        "val_loss_values = history_dict['val_loss']\n",
        "\n",
        "acc_values = history_dict['accuracy']\n",
        "val_acc_values = history_dict['val_accuracy']"
      ],
      "execution_count": 29,
      "outputs": []
    },
    {
      "cell_type": "code",
      "metadata": {
        "colab": {
          "base_uri": "https://localhost:8080/",
          "height": 910
        },
        "id": "gsjNnIn3EHvu",
        "outputId": "8cc951a6-f801-4544-a34c-5d9d1cd41129"
      },
      "source": [
        "fig, ax = plt.subplots(2, 1, figsize=(10, 15))\n",
        "ax[0].set_xlabel('Epochs')\n",
        "ax[0].set_ylabel('Accuracy')\n",
        "ax[0].plot(acc_values, label=\"Training accuracy\")\n",
        "ax[0].plot(val_acc_values, label=\"Validation accuracy\")\n",
        "ax[0].set_title(\"Training accuracy\")\n",
        "ax[0].legend(loc='lower right')\n",
        "\n",
        "ax[1].set_xlabel('Epochs')\n",
        "ax[1].set_ylabel('Loss')\n",
        "ax[1].plot(loss_values, label=\"Training loss\")\n",
        "ax[1].plot(val_loss_values, label=\"Validation loss\")\n",
        "ax[1].set_title(\"Training loss\")\n",
        "ax[1].legend(loc='lower left')"
      ],
      "execution_count": 30,
      "outputs": [
        {
          "output_type": "execute_result",
          "data": {
            "text/plain": [
              "<matplotlib.legend.Legend at 0x7f1b43fa7fd0>"
            ]
          },
          "metadata": {
            "tags": []
          },
          "execution_count": 30
        },
        {
          "output_type": "display_data",
          "data": {
            "image/png": "[encoded data removed]",
            "text/plain": [
              "<Figure size 720x1080 with 2 Axes>"
            ]
          },
          "metadata": {
            "tags": [],
            "needs_background": "light"
          }
        }
      ]
    },
    {
      "cell_type": "code",
      "metadata": {
        "colab": {
          "base_uri": "https://localhost:8080/"
        },
        "id": "uf9tIhH5EMWI",
        "outputId": "fa03fcff-26dc-4031-8a36-8137b3813df6"
      },
      "source": [
        "test_results = network.evaluate(test_imgs_standard, test_labels_standard)\n",
        "print(test_results)"
      ],
      "execution_count": 31,
      "outputs": [
        {
          "output_type": "stream",
          "text": [
            "313/313 [==============================] - 1s 2ms/step - loss: 1.4487 - accuracy: 0.4927\n",
            "[1.4487173557281494, 0.4927000105381012]\n"
          ],
          "name": "stdout"
        }
      ]
    }
  ]
}