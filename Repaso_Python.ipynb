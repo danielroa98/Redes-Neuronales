{
  "nbformat": 4,
  "nbformat_minor": 0,
  "metadata": {
    "colab": {
      "name": "Repaso Python.ipynb",
      "provenance": [],
      "authorship_tag": "ABX9TyMi69jBJl5WcxRvNMcYunVZ",
      "include_colab_link": true
    },
    "kernelspec": {
      "name": "python3",
      "display_name": "Python 3"
    },
    "language_info": {
      "name": "python"
    }
  },
  "cells": [
    {
      "cell_type": "markdown",
      "metadata": {
        "id": "view-in-github",
        "colab_type": "text"
      },
      "source": [
        "<a href=\"https://colab.research.google.com/github/danielroa98/Redes-Neuronales/blob/main/Repaso_Python.ipynb\" target=\"_parent\"><img src=\"https://colab.research.google.com/assets/colab-badge.svg\" alt=\"Open In Colab\"/></a>"
      ]
    },
    {
      "cell_type": "markdown",
      "metadata": {
        "id": "elK4p_n0Acf0"
      },
      "source": [
        "# Repaso Python\n",
        "## Daniel Roa - A01021960\n",
        "\n",
        "Esto es una celda de texto."
      ]
    },
    {
      "cell_type": "code",
      "metadata": {
        "id": "gT6iz-xXBbkm"
      },
      "source": [
        "import math\n",
        "import random"
      ],
      "execution_count": null,
      "outputs": []
    },
    {
      "cell_type": "code",
      "metadata": {
        "colab": {
          "base_uri": "https://localhost:8080/"
        },
        "id": "-XGT6ZP7CD2L",
        "outputId": "f56bc5d3-570f-4d90-fcfb-54e35ef821d0"
      },
      "source": [
        "numbers_list = [random.randint(1, 100) for num in range(10)] ## <- list comprehension\n",
        "\n",
        "numbers_list = []\n",
        "\n",
        "for i in range(10):\n",
        "  number = random.randint(1, 100)\n",
        "  numbers_list.append(number)\n",
        "\n",
        "print(numbers_list)"
      ],
      "execution_count": null,
      "outputs": [
        {
          "output_type": "stream",
          "text": [
            "[42, 56, 64, 48, 36, 58, 19, 1, 88, 22]\n"
          ],
          "name": "stdout"
        }
      ]
    },
    {
      "cell_type": "code",
      "metadata": {
        "colab": {
          "base_uri": "https://localhost:8080/"
        },
        "id": "fIoq54gEEE6K",
        "outputId": "62167da8-6bbf-430f-b8ac-b35eefbb09ba"
      },
      "source": [
        "%timeit numbers_list = [random.randint(1, 100) for num in range(10)]"
      ],
      "execution_count": null,
      "outputs": [
        {
          "output_type": "stream",
          "text": [
            "100000 loops, best of 5: 14.2 µs per loop\n"
          ],
          "name": "stdout"
        }
      ]
    },
    {
      "cell_type": "code",
      "metadata": {
        "id": "Bc2nT4RzEUIe"
      },
      "source": [
        "def for_test():\n",
        "  for i in range(10):\n",
        "    number = random.randint(1, 100)\n",
        "    numbers_list.append(number)\n",
        "\n",
        "  %timeit for_test()"
      ],
      "execution_count": null,
      "outputs": []
    }
  ]
}