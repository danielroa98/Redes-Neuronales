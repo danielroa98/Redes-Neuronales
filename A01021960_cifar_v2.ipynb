{
  "nbformat": 4,
  "nbformat_minor": 0,
  "metadata": {
    "colab": {
      "name": "A01021960_cifar.ipynb",
      "provenance": [],
      "collapsed_sections": [],
      "authorship_tag": "ABX9TyOJY804xUrvft0bDj8eyQIb",
      "include_colab_link": true
    },
    "kernelspec": {
      "name": "python3",
      "display_name": "Python 3"
    },
    "language_info": {
      "name": "python"
    },
    "accelerator": "GPU"
  },
  "cells": [
    {
      "cell_type": "markdown",
      "metadata": {
        "id": "view-in-github",
        "colab_type": "text"
      },
      "source": [
        "<a href=\"https://colab.research.google.com/github/danielroa98/Redes-Neuronales/blob/main/A01021960_cifar_v2.ipynb\" target=\"_parent\"><img src=\"https://colab.research.google.com/assets/colab-badge.svg\" alt=\"Open In Colab\"/></a>"
      ]
    },
    {
      "cell_type": "code",
      "metadata": {
        "id": "ghdpgHonitLs"
      },
      "source": [
        "import cv2 #OpenCV\n",
        "\n",
        "import tensorflow as tf\n",
        "from tensorflow.keras import models, layers, optimizers\n",
        "from tensorflow.keras.utils import to_categorical\n",
        "\n",
        "# Import the dataset that will be used\n",
        "from tensorflow.keras.datasets import cifar10\n",
        "\n",
        "import numpy as np\n",
        "import matplotlib.pyplot as plt"
      ],
      "execution_count": 110,
      "outputs": []
    },
    {
      "cell_type": "markdown",
      "metadata": {
        "id": "2ZAR_2anjYc_"
      },
      "source": [
        "### Loading data from the Cifar10 dataset"
      ]
    },
    {
      "cell_type": "code",
      "metadata": {
        "colab": {
          "base_uri": "https://localhost:8080/"
        },
        "id": "Z9QBPcw-jAj9",
        "outputId": "5560ebf7-3148-477a-be3b-16974e86b865"
      },
      "source": [
        "(train_images, train_labels), (test_images, test_labels) = cifar10.load_data()\n",
        "\n",
        "print(train_images.shape)\n",
        "print(test_images.shape)"
      ],
      "execution_count": 111,
      "outputs": [
        {
          "output_type": "stream",
          "text": [
            "(50000, 32, 32, 3)\n",
            "(10000, 32, 32, 3)\n"
          ],
          "name": "stdout"
        }
      ]
    },
    {
      "cell_type": "markdown",
      "metadata": {
        "id": "DaGbKDl5jesK"
      },
      "source": [
        ""
      ]
    },
    {
      "cell_type": "code",
      "metadata": {
        "colab": {
          "base_uri": "https://localhost:8080/",
          "height": 317
        },
        "id": "e0TvwS9Djj_r",
        "outputId": "de2eefc6-ecd0-4674-c1ba-3a28221be92b"
      },
      "source": [
        "sample = 0\n",
        "print(test_images[sample].shape)\n",
        "print(test_labels[sample])\n",
        "\n",
        "sampleImg = cv2.cvtColor(test_images[sample], cv2.COLOR_BGR2RGB)\n",
        "\n",
        "plt.imshow(sampleImg, cmap='gray')\n",
        "# plt.imshow(test_images[0], cmap='gray')"
      ],
      "execution_count": 112,
      "outputs": [
        {
          "output_type": "stream",
          "text": [
            "(32, 32, 3)\n",
            "[3]\n"
          ],
          "name": "stdout"
        },
        {
          "output_type": "execute_result",
          "data": {
            "text/plain": [
              "<matplotlib.image.AxesImage at 0x7fa8626dcc90>"
            ]
          },
          "metadata": {
            "tags": []
          },
          "execution_count": 112
        },
        {
          "output_type": "display_data",
          "data": {
            "image/png": "[encoded data removed]",
            "text/plain": [
              "<Figure size 432x288 with 1 Axes>"
            ]
          },
          "metadata": {
            "tags": [],
            "needs_background": "light"
          }
        }
      ]
    },
    {
      "cell_type": "markdown",
      "metadata": {
        "id": "1I7QcEuuj8ue"
      },
      "source": [
        ""
      ]
    },
    {
      "cell_type": "code",
      "metadata": {
        "id": "2GE3fHJOAe2O"
      },
      "source": [
        "train_imgs_standard = train_images.reshape((50000, 32*32*3))\n",
        "train_imgs_standard = train_imgs_standard.astype('float32')/255\n",
        "\n",
        "test_imgs_standard = test_images.reshape((10000, 32*32*3))\n",
        "test_imgs_standard = test_imgs_standard.astype('float32')/255"
      ],
      "execution_count": 113,
      "outputs": []
    },
    {
      "cell_type": "code",
      "metadata": {
        "colab": {
          "base_uri": "https://localhost:8080/"
        },
        "id": "-p9-jQAsj8U3",
        "outputId": "33633496-bdd8-489a-c92d-7aab22c19d78"
      },
      "source": [
        "print(train_labels)\n",
        "print(train_labels.shape)\n",
        "\n",
        "train_labels_standard = to_categorical(train_labels)\n",
        "test_labels_standard = to_categorical(test_labels)\n",
        "\n",
        "print(train_labels_standard[0])\n",
        "print(train_labels_standard.shape)"
      ],
      "execution_count": 114,
      "outputs": [
        {
          "output_type": "stream",
          "text": [
            "[[6]\n",
            " [9]\n",
            " [9]\n",
            " ...\n",
            " [9]\n",
            " [1]\n",
            " [1]]\n",
            "(50000, 1)\n",
            "[0. 0. 0. 0. 0. 0. 1. 0. 0. 0.]\n",
            "(50000, 10)\n"
          ],
          "name": "stdout"
        }
      ]
    },
    {
      "cell_type": "code",
      "metadata": {
        "id": "gnzkcWfeyOG1",
        "colab": {
          "base_uri": "https://localhost:8080/"
        },
        "outputId": "0649b6ac-a5e9-4b26-a1fa-6f92d24c8bf6"
      },
      "source": [
        "network = models.Sequential()\n",
        "\n",
        "# Hidden layers\n",
        "network.add(layers.Dense(32, activation='relu', input_shape=(3072,), name='Hidden_0'))\n",
        "network.add(layers.Dense(64, activation='relu', name='Hidden_1'))\n",
        "network.add(layers.Dense(128, activation='relu', name='Hidden_2'))\n",
        "network.add(layers.Dense(256, activation='relu', name='Hidden_3'))\n",
        "network.add(layers.Dense(300, activation='relu', name='Hidden_3.1'))\n",
        "network.add(layers.Dense(450, activation='relu', name='Hidden_3.2'))\n",
        "network.add(layers.Dense(512, activation='relu', name='Hidden_4'))\n",
        "# network.add(layers.Dense(700, activation='relu', name='Hidden_5.1'))\n",
        "\n",
        "# Output layer\n",
        "network.add(layers.Dense(10, activation='softmax', name='Output'))\n",
        "\n",
        "network.compile(optimizer=optimizers.Adam(learning_rate=0.0001), loss='categorical_crossentropy', metrics=['accuracy'])\n",
        "\n",
        "network.summary()"
      ],
      "execution_count": 161,
      "outputs": [
        {
          "output_type": "stream",
          "text": [
            "Model: \"sequential_36\"\n",
            "_________________________________________________________________\n",
            "Layer (type)                 Output Shape              Param #   \n",
            "=================================================================\n",
            "Hidden_0 (Dense)             (None, 32)                98336     \n",
            "_________________________________________________________________\n",
            "Hidden_1 (Dense)             (None, 64)                2112      \n",
            "_________________________________________________________________\n",
            "Hidden_2 (Dense)             (None, 128)               8320      \n",
            "_________________________________________________________________\n",
            "Hidden_3 (Dense)             (None, 256)               33024     \n",
            "_________________________________________________________________\n",
            "Hidden_3.1 (Dense)           (None, 300)               77100     \n",
            "_________________________________________________________________\n",
            "Hidden_3.2 (Dense)           (None, 450)               135450    \n",
            "_________________________________________________________________\n",
            "Hidden_4 (Dense)             (None, 512)               230912    \n",
            "_________________________________________________________________\n",
            "Output (Dense)               (None, 10)                5130      \n",
            "=================================================================\n",
            "Total params: 590,384\n",
            "Trainable params: 590,384\n",
            "Non-trainable params: 0\n",
            "_________________________________________________________________\n"
          ],
          "name": "stdout"
        }
      ]
    },
    {
      "cell_type": "code",
      "metadata": {
        "colab": {
          "base_uri": "https://localhost:8080/"
        },
        "id": "Tx2UxS7iDhzn",
        "outputId": "3dbef650-1473-45e0-afd5-7272074163ef"
      },
      "source": [
        "x_train = train_imgs_standard[:35000]\n",
        "x_val = train_imgs_standard[35000:]\n",
        "\n",
        "y_train = train_labels_standard[:35000]\n",
        "y_val = train_labels_standard[35000:]\n",
        "\n",
        "history = network.fit(x_train, y_train, epochs=25, validation_data=(x_val, y_val))"
      ],
      "execution_count": 162,
      "outputs": [
        {
          "output_type": "stream",
          "text": [
            "Epoch 1/25\n",
            "1094/1094 [==============================] - 5s 4ms/step - loss: 1.9356 - accuracy: 0.2837 - val_loss: 1.8051 - val_accuracy: 0.3477\n",
            "Epoch 2/25\n",
            "1094/1094 [==============================] - 5s 4ms/step - loss: 1.7473 - accuracy: 0.3662 - val_loss: 1.7074 - val_accuracy: 0.3827\n",
            "Epoch 3/25\n",
            "1094/1094 [==============================] - 4s 4ms/step - loss: 1.6733 - accuracy: 0.3935 - val_loss: 1.6659 - val_accuracy: 0.4013\n",
            "Epoch 4/25\n",
            "1094/1094 [==============================] - 4s 4ms/step - loss: 1.6202 - accuracy: 0.4169 - val_loss: 1.6660 - val_accuracy: 0.3974\n",
            "Epoch 5/25\n",
            "1094/1094 [==============================] - 5s 4ms/step - loss: 1.5714 - accuracy: 0.4335 - val_loss: 1.6153 - val_accuracy: 0.4144\n",
            "Epoch 6/25\n",
            "1094/1094 [==============================] - 5s 4ms/step - loss: 1.5398 - accuracy: 0.4415 - val_loss: 1.5736 - val_accuracy: 0.4361\n",
            "Epoch 7/25\n",
            "1094/1094 [==============================] - 5s 4ms/step - loss: 1.5061 - accuracy: 0.4575 - val_loss: 1.5765 - val_accuracy: 0.4349\n",
            "Epoch 8/25\n",
            "1094/1094 [==============================] - 4s 4ms/step - loss: 1.4848 - accuracy: 0.4626 - val_loss: 1.5410 - val_accuracy: 0.4455\n",
            "Epoch 9/25\n",
            "1094/1094 [==============================] - 4s 4ms/step - loss: 1.4574 - accuracy: 0.4766 - val_loss: 1.5262 - val_accuracy: 0.4545\n",
            "Epoch 10/25\n",
            "1094/1094 [==============================] - 4s 4ms/step - loss: 1.4376 - accuracy: 0.4846 - val_loss: 1.5247 - val_accuracy: 0.4501\n",
            "Epoch 11/25\n",
            "1094/1094 [==============================] - 5s 4ms/step - loss: 1.4158 - accuracy: 0.4908 - val_loss: 1.5196 - val_accuracy: 0.4599\n",
            "Epoch 12/25\n",
            "1094/1094 [==============================] - 5s 4ms/step - loss: 1.3943 - accuracy: 0.4994 - val_loss: 1.5056 - val_accuracy: 0.4627\n",
            "Epoch 13/25\n",
            "1094/1094 [==============================] - 5s 5ms/step - loss: 1.3736 - accuracy: 0.5089 - val_loss: 1.5030 - val_accuracy: 0.4618\n",
            "Epoch 14/25\n",
            "1094/1094 [==============================] - 5s 4ms/step - loss: 1.3549 - accuracy: 0.5151 - val_loss: 1.5321 - val_accuracy: 0.4554\n",
            "Epoch 15/25\n",
            "1094/1094 [==============================] - 5s 4ms/step - loss: 1.3336 - accuracy: 0.5202 - val_loss: 1.4646 - val_accuracy: 0.4799\n",
            "Epoch 16/25\n",
            "1094/1094 [==============================] - 5s 4ms/step - loss: 1.3176 - accuracy: 0.5275 - val_loss: 1.4752 - val_accuracy: 0.4757\n",
            "Epoch 17/25\n",
            "1094/1094 [==============================] - 4s 4ms/step - loss: 1.3008 - accuracy: 0.5330 - val_loss: 1.4802 - val_accuracy: 0.4778\n",
            "Epoch 18/25\n",
            "1094/1094 [==============================] - 5s 4ms/step - loss: 1.2812 - accuracy: 0.5411 - val_loss: 1.4888 - val_accuracy: 0.4790\n",
            "Epoch 19/25\n",
            "1094/1094 [==============================] - 5s 4ms/step - loss: 1.2646 - accuracy: 0.5461 - val_loss: 1.4708 - val_accuracy: 0.4856\n",
            "Epoch 20/25\n",
            "1094/1094 [==============================] - 5s 4ms/step - loss: 1.2469 - accuracy: 0.5526 - val_loss: 1.4671 - val_accuracy: 0.4867\n",
            "Epoch 21/25\n",
            "1094/1094 [==============================] - 5s 4ms/step - loss: 1.2287 - accuracy: 0.5588 - val_loss: 1.4474 - val_accuracy: 0.4928\n",
            "Epoch 22/25\n",
            "1094/1094 [==============================] - 4s 4ms/step - loss: 1.2130 - accuracy: 0.5647 - val_loss: 1.4956 - val_accuracy: 0.4788\n",
            "Epoch 23/25\n",
            "1094/1094 [==============================] - 5s 4ms/step - loss: 1.1943 - accuracy: 0.5730 - val_loss: 1.4827 - val_accuracy: 0.4809\n",
            "Epoch 24/25\n",
            "1094/1094 [==============================] - 5s 4ms/step - loss: 1.1785 - accuracy: 0.5755 - val_loss: 1.4623 - val_accuracy: 0.4933\n",
            "Epoch 25/25\n",
            "1094/1094 [==============================] - 4s 4ms/step - loss: 1.1576 - accuracy: 0.5855 - val_loss: 1.4663 - val_accuracy: 0.4944\n"
          ],
          "name": "stdout"
        }
      ]
    },
    {
      "cell_type": "code",
      "metadata": {
        "id": "CC_STSgfEERa"
      },
      "source": [
        "history_dict = history.history\n",
        "\n",
        "loss_values = history_dict['loss']\n",
        "val_loss_values = history_dict['val_loss']\n",
        "\n",
        "acc_values = history_dict['accuracy']\n",
        "val_acc_values = history_dict['val_accuracy']"
      ],
      "execution_count": 163,
      "outputs": []
    },
    {
      "cell_type": "code",
      "metadata": {
        "colab": {
          "base_uri": "https://localhost:8080/",
          "height": 910
        },
        "id": "gsjNnIn3EHvu",
        "outputId": "87d55346-eabc-4c41-e61e-30c64a2d0ee7"
      },
      "source": [
        "fig, ax = plt.subplots(2, 1, figsize=(10, 15))\n",
        "ax[0].set_xlabel('Epochs')\n",
        "ax[0].set_ylabel('Accuracy')\n",
        "ax[0].plot(acc_values, label=\"Training accuracy\")\n",
        "ax[0].plot(val_acc_values, label=\"Validation accuracy\")\n",
        "ax[0].set_title(\"Training accuracy\")\n",
        "ax[0].legend(loc='lower right')\n",
        "\n",
        "ax[1].set_xlabel('Epochs')\n",
        "ax[1].set_ylabel('Loss')\n",
        "ax[1].plot(loss_values, label=\"Training loss\")\n",
        "ax[1].plot(val_loss_values, label=\"Validation loss\")\n",
        "ax[1].set_title(\"Training loss\")\n",
        "ax[1].legend(loc='lower left')"
      ],
      "execution_count": 164,
      "outputs": [
        {
          "output_type": "execute_result",
          "data": {
            "text/plain": [
              "<matplotlib.legend.Legend at 0x7fa87c6f0e90>"
            ]
          },
          "metadata": {
            "tags": []
          },
          "execution_count": 164
        },
        {
          "output_type": "display_data",
          "data": {
            "image/png": "[encoded data removed]",
            "text/plain": [
              "<Figure size 720x1080 with 2 Axes>"
            ]
          },
          "metadata": {
            "tags": [],
            "needs_background": "light"
          }
        }
      ]
    },
    {
      "cell_type": "code",
      "metadata": {
        "colab": {
          "base_uri": "https://localhost:8080/"
        },
        "id": "uf9tIhH5EMWI",
        "outputId": "2b369d03-2be7-42f8-a11e-324205a06092"
      },
      "source": [
        "test_results = network.evaluate(test_imgs_standard, test_labels_standard)\n",
        "print(test_results)"
      ],
      "execution_count": 165,
      "outputs": [
        {
          "output_type": "stream",
          "text": [
            "313/313 [==============================] - 1s 3ms/step - loss: 1.4500 - accuracy: 0.4909\n",
            "[1.4500229358673096, 0.4909000098705292]\n"
          ],
          "name": "stdout"
        }
      ]
    }
  ]
}